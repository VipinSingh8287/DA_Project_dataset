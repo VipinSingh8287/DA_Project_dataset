{
 "cells": [
  {
   "cell_type": "markdown",
   "metadata": {},
   "source": [
    "Following code blocks imports the neccessary module required\n",
    "- Pandas: It provides the *DataFrame* object which stores the input read from csv file\n",
    "- Matplotlib.Pyplot and Seaborn: It provides the method to plot the graphs"
   ]
  },
  {
   "cell_type": "code",
   "execution_count": null,
   "metadata": {},
   "outputs": [],
   "source": [
    "import pandas as pd\n",
    "import matplotlib.pyplot as plt\n",
    "import seaborn as sns"
   ]
  },
  {
   "cell_type": "markdown",
   "metadata": {},
   "source": [
    "df is being read from csv file to pandas dataframe"
   ]
  },
  {
   "cell_type": "code",
   "execution_count": null,
   "metadata": {},
   "outputs": [],
   "source": [
    "df = pd.read_csv(\"./data.csv\")"
   ]
  },
  {
   "cell_type": "markdown",
   "metadata": {},
   "source": [
    "Here the unique states are pulled from State Column"
   ]
  },
  {
   "cell_type": "code",
   "execution_count": null,
   "metadata": {},
   "outputs": [],
   "source": [
    "states = df['State'].unique()"
   ]
  },
  {
   "cell_type": "markdown",
   "metadata": {},
   "source": [
    "Here the Date column is converted to *datetime* format through pandas in built method."
   ]
  },
  {
   "cell_type": "code",
   "execution_count": null,
   "metadata": {},
   "outputs": [],
   "source": [
    "df['Date'] = pd.to_datetime(df['Date'])"
   ]
  },
  {
   "cell_type": "markdown",
   "metadata": {},
   "source": [
    "Following code blocks does all the hardwork. It plot a lineplot for each state for Date vs Capacity with hue as Source. It also saves the code after it generates the plot.\n",
    "close method is very neccessary. It deletes the plot hogged memory after saving it to hard drive."
   ]
  },
  {
   "cell_type": "code",
   "execution_count": null,
   "metadata": {},
   "outputs": [],
   "source": [
    "for state in states:\n",
    "    df_state = df[df['State'] == state]\n",
    "    plt.figure(figsize=(20,8))\n",
    "    sns.lineplot(data=df_state,x='Date',y='Installed Capacity',hue='Source',palette=\"tab10\",marker=\"o\")\n",
    "    sns.lineplot(data=df_state,x='Date',y='Potential Capacity',hue='Source',palette=\"tab10\",linestyle=\"--\",marker=\"x\")\n",
    "    plt.title(f\"Potential vs Installed Capacity over Time in {state}\")\n",
    "    plt.xlabel(\"Date\")\n",
    "    plt.ylabel(\"Capacity\")\n",
    "    plt.legend(loc=\"best\")\n",
    "    plt.savefig(f\"./graphs/{state}Graph.jpeg\")\n",
    "    # plt.show()\n",
    "    plt.close()\n"
   ]
  }
 ],
 "metadata": {
  "kernelspec": {
   "display_name": "re",
   "language": "python",
   "name": "python3"
  },
  "language_info": {
   "codemirror_mode": {
    "name": "ipython",
    "version": 3
   },
   "file_extension": ".py",
   "mimetype": "text/x-python",
   "name": "python",
   "nbconvert_exporter": "python",
   "pygments_lexer": "ipython3",
   "version": "3.11.2"
  }
 },
 "nbformat": 4,
 "nbformat_minor": 2
}
