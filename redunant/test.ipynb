{
 "cells": [
  {
   "cell_type": "code",
   "execution_count": 85,
   "metadata": {},
   "outputs": [],
   "source": [
    "import pandas as pd\n",
    "import os"
   ]
  },
  {
   "cell_type": "code",
   "execution_count": 86,
   "metadata": {},
   "outputs": [],
   "source": [
    "df1 = pd.DataFrame(columns=[\"Date\",\"Source\", \"State\",\"Potential Capacity\",\"Installed Capacity\"])"
   ]
  },
  {
   "cell_type": "code",
   "execution_count": 87,
   "metadata": {},
   "outputs": [],
   "source": [
    "def extractData(path):\n",
    "    df = pd.read_excel(path)\n",
    "    df = df.dropna()\n",
    "    for i in range(0,380,2):\n",
    "        row1 = df.iloc[i]\n",
    "        row2 = df.iloc[i+1]\n",
    "        source = row1.iloc[0]\n",
    "        state = row1.iloc[1]\n",
    "        date = row1.iloc[4]\n",
    "        potential = row1.iloc[3]\n",
    "        installed = row2.iloc[3]\n",
    "        new_row = {\n",
    "            'Date':date,\n",
    "            'Source':source,\n",
    "            'State':state,\n",
    "            'Potential Capacity':potential,\n",
    "            'Installed Capacity':installed\n",
    "        }\n",
    "        df1.loc[len(df1.index)] = new_row"
   ]
  },
  {
   "cell_type": "code",
   "execution_count": 88,
   "metadata": {},
   "outputs": [],
   "source": [
    "for path in os.listdir(\"./data\"):\n",
    "    path_n = os.path.join(\"./data\",path)\n",
    "    extractData(path_n)"
   ]
  },
  {
   "cell_type": "code",
   "execution_count": 91,
   "metadata": {},
   "outputs": [],
   "source": [
    "df1.to_csv(\"./data.csv\",index=False)"
   ]
  },
  {
   "cell_type": "code",
   "execution_count": null,
   "metadata": {},
   "outputs": [],
   "source": []
  }
 ],
 "metadata": {
  "kernelspec": {
   "display_name": "re",
   "language": "python",
   "name": "python3"
  },
  "language_info": {
   "codemirror_mode": {
    "name": "ipython",
    "version": 3
   },
   "file_extension": ".py",
   "mimetype": "text/x-python",
   "name": "python",
   "nbconvert_exporter": "python",
   "pygments_lexer": "ipython3",
   "version": "3.11.2"
  }
 },
 "nbformat": 4,
 "nbformat_minor": 2
}
